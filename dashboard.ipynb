{
 "cells": [
  {
   "cell_type": "code",
   "execution_count": 1,
   "id": "16732f26-a7fa-450e-86e0-51b80eab26e1",
   "metadata": {},
   "outputs": [
    {
     "name": "stdout",
     "output_type": "stream",
     "text": [
      "9     162133\n",
      "10    140254\n",
      "11    175607\n",
      "12    134794\n",
      "13    156036\n",
      "14     90201\n",
      "15     73948\n",
      "16     34120\n",
      "17     25674\n",
      "18      7233\n",
      "Name: AGE_GROUP, dtype: int64\n"
     ]
    }
   ],
   "source": [
    "import pandas as pd\n",
    "\n",
    "file_path = '건강검진정보.csv'\n",
    "data = pd.read_csv(file_path, encoding='cp949') \n",
    "\n",
    "age_group_counts = data['AGE_GROUP'].value_counts().sort_index()\n",
    "print(age_group_counts)\n",
    "\n",
    "#'AGE_GROUP'의 값이 9이상만 존재, 즉 40세 이상의 정보만 나타나 있음"
   ]
  },
  {
   "cell_type": "code",
   "execution_count": 2,
   "id": "52bb7a9f-9333-41b1-82af-6f5b757ea157",
   "metadata": {},
   "outputs": [
    {
     "name": "stdout",
     "output_type": "stream",
     "text": [
      "경기도        254167\n",
      "서울특별시      169859\n",
      "경상남도        68381\n",
      "부산광역시       66527\n",
      "인천광역시       58832\n",
      "경상북도        53888\n",
      "대구광역시       47592\n",
      "충청남도        41825\n",
      "전라남도        38431\n",
      "전라북도        37056\n",
      "충청북도        33171\n",
      "강원도         30817\n",
      "대전광역시       28769\n",
      "광주광역시       27902\n",
      "울산광역시       24180\n",
      "제주특별자치도     11889\n",
      "세종특별자치시      6714\n",
      "Name: SIDO, dtype: int64\n"
     ]
    }
   ],
   "source": [
    "import pandas as pd\n",
    "\n",
    "file_path = '건강검진정보.csv'\n",
    "df = pd.read_csv(file_path, encoding='cp949') \n",
    "\n",
    "residence_counts = df['SIDO'].value_counts(sort=True, ascending=False)\n",
    "\n",
    "# 거주지 코드-이름 \n",
    "residence_mapping = {\n",
    "    11: '서울특별시',\n",
    "    42: '강원도',\n",
    "    26: '부산광역시',\n",
    "    43: '충청북도',\n",
    "    27: '대구광역시',\n",
    "    44: '충청남도',\n",
    "    28: '인천광역시',\n",
    "    45: '전라북도',\n",
    "    29: '광주광역시',\n",
    "    46: '전라남도',\n",
    "    30: '대전광역시',\n",
    "    47: '경상북도',\n",
    "    31: '울산광역시',\n",
    "    48: '경상남도',\n",
    "    36: '세종특별자치시',\n",
    "    49: '제주특별자치도',\n",
    "    41: '경기도'\n",
    "}\n",
    "\n",
    "residence_counts.index = residence_counts.index.map(residence_mapping)\n",
    "\n",
    "# 결과\n",
    "print(residence_counts)"
   ]
  },
  {
   "cell_type": "code",
   "execution_count": 5,
   "id": "c58e9013-9e6b-44c8-9448-c51bc6fe5356",
   "metadata": {},
   "outputs": [
    {
     "name": "stdout",
     "output_type": "stream",
     "text": [
      "Requirement already satisfied: dash in c:\\users\\gks31\\anaconda3\\lib\\site-packages (2.14.1)Note: you may need to restart the kernel to use updated packages.\n",
      "\n",
      "Requirement already satisfied: requests in c:\\users\\gks31\\anaconda3\\lib\\site-packages (from dash) (2.28.1)\n",
      "Requirement already satisfied: ansi2html in c:\\users\\gks31\\anaconda3\\lib\\site-packages (from dash) (1.8.0)\n",
      "Requirement already satisfied: dash-table==5.0.0 in c:\\users\\gks31\\anaconda3\\lib\\site-packages (from dash) (5.0.0)\n",
      "Requirement already satisfied: nest-asyncio in c:\\users\\gks31\\anaconda3\\lib\\site-packages (from dash) (1.5.5)\n",
      "Requirement already satisfied: dash-html-components==2.0.0 in c:\\users\\gks31\\anaconda3\\lib\\site-packages (from dash) (2.0.0)\n",
      "Requirement already satisfied: plotly>=5.0.0 in c:\\users\\gks31\\anaconda3\\lib\\site-packages (from dash) (5.9.0)\n",
      "Requirement already satisfied: importlib-metadata in c:\\users\\gks31\\anaconda3\\lib\\site-packages (from dash) (4.11.3)\n",
      "Requirement already satisfied: Werkzeug<3.1 in c:\\users\\gks31\\anaconda3\\lib\\site-packages (from dash) (2.0.3)\n",
      "Requirement already satisfied: Flask<3.1,>=1.0.4 in c:\\users\\gks31\\anaconda3\\lib\\site-packages (from dash) (1.1.2)\n",
      "Requirement already satisfied: retrying in c:\\users\\gks31\\anaconda3\\lib\\site-packages (from dash) (1.3.4)\n",
      "Requirement already satisfied: typing-extensions>=4.1.1 in c:\\users\\gks31\\anaconda3\\lib\\site-packages (from dash) (4.3.0)\n",
      "Requirement already satisfied: setuptools in c:\\users\\gks31\\anaconda3\\lib\\site-packages (from dash) (63.4.1)\n",
      "Requirement already satisfied: dash-core-components==2.0.0 in c:\\users\\gks31\\anaconda3\\lib\\site-packages (from dash) (2.0.0)\n",
      "Requirement already satisfied: Jinja2>=2.10.1 in c:\\users\\gks31\\anaconda3\\lib\\site-packages (from Flask<3.1,>=1.0.4->dash) (2.11.3)\n",
      "Requirement already satisfied: itsdangerous>=0.24 in c:\\users\\gks31\\anaconda3\\lib\\site-packages (from Flask<3.1,>=1.0.4->dash) (2.0.1)\n",
      "Requirement already satisfied: click>=5.1 in c:\\users\\gks31\\anaconda3\\lib\\site-packages (from Flask<3.1,>=1.0.4->dash) (8.0.4)\n",
      "Requirement already satisfied: tenacity>=6.2.0 in c:\\users\\gks31\\anaconda3\\lib\\site-packages (from plotly>=5.0.0->dash) (8.2.3)\n",
      "Requirement already satisfied: zipp>=0.5 in c:\\users\\gks31\\anaconda3\\lib\\site-packages (from importlib-metadata->dash) (3.8.0)\n",
      "Requirement already satisfied: charset-normalizer<3,>=2 in c:\\users\\gks31\\anaconda3\\lib\\site-packages (from requests->dash) (2.0.4)\n",
      "Requirement already satisfied: urllib3<1.27,>=1.21.1 in c:\\users\\gks31\\anaconda3\\lib\\site-packages (from requests->dash) (1.26.11)\n",
      "Requirement already satisfied: certifi>=2017.4.17 in c:\\users\\gks31\\anaconda3\\lib\\site-packages (from requests->dash) (2022.9.14)\n",
      "Requirement already satisfied: idna<4,>=2.5 in c:\\users\\gks31\\anaconda3\\lib\\site-packages (from requests->dash) (3.3)\n",
      "Requirement already satisfied: six>=1.7.0 in c:\\users\\gks31\\anaconda3\\lib\\site-packages (from retrying->dash) (1.16.0)\n",
      "Requirement already satisfied: colorama in c:\\users\\gks31\\anaconda3\\lib\\site-packages (from click>=5.1->Flask<3.1,>=1.0.4->dash) (0.4.5)\n",
      "Requirement already satisfied: MarkupSafe>=0.23 in c:\\users\\gks31\\anaconda3\\lib\\site-packages (from Jinja2>=2.10.1->Flask<3.1,>=1.0.4->dash) (2.0.1)\n"
     ]
    }
   ],
   "source": [
    "pip install dash"
   ]
  },
  {
   "cell_type": "code",
   "execution_count": 7,
   "id": "2648f490-f83a-4466-a41c-12224192051a",
   "metadata": {},
   "outputs": [
    {
     "name": "stdout",
     "output_type": "stream",
     "text": [
      "Requirement already satisfied: plotly in c:\\users\\gks31\\anaconda3\\lib\\site-packages (5.9.0)\n",
      "Requirement already satisfied: tenacity>=6.2.0 in c:\\users\\gks31\\anaconda3\\lib\\site-packages (from plotly) (8.2.3)\n",
      "Note: you may need to restart the kernel to use updated packages.\n"
     ]
    }
   ],
   "source": [
    "pip install plotly"
   ]
  },
  {
   "cell_type": "code",
   "execution_count": 3,
   "id": "c6973586-2c22-4d6f-857c-70c422ebcd24",
   "metadata": {},
   "outputs": [
    {
     "data": {
      "text/html": [
       "\n",
       "        <iframe\n",
       "            width=\"100%\"\n",
       "            height=\"650\"\n",
       "            src=\"http://127.0.0.1:8051/\"\n",
       "            frameborder=\"0\"\n",
       "            allowfullscreen\n",
       "            \n",
       "        ></iframe>\n",
       "        "
      ],
      "text/plain": [
       "<IPython.lib.display.IFrame at 0x1cb0792ad60>"
      ]
     },
     "metadata": {},
     "output_type": "display_data"
    }
   ],
   "source": [
    "import dash\n",
    "from dash import dcc, html\n",
    "import pandas as pd\n",
    "import plotly.graph_objs as go\n",
    "from plotly.subplots import make_subplots\n",
    "\n",
    "df = pd.read_csv('건강검진정보.csv')\n",
    "sido_mapping = {\n",
    "    11: '서울특별시',\n",
    "    42: '강원도',\n",
    "    26: '부산광역시',\n",
    "    43: '충청북도',\n",
    "    27: '대구광역시',\n",
    "    44: '충청남도',\n",
    "    28: '인천광역시',\n",
    "    45: '전라북도',\n",
    "    29: '광주광역시',\n",
    "    46: '전라남도',\n",
    "    30: '대전광역시',\n",
    "    47: '경상북도',\n",
    "    31: '울산광역시',\n",
    "    48: '경상남도',\n",
    "    36: '세종특별자치시',\n",
    "    49: '제주특별자치도',\n",
    "    41: '경기도'\n",
    "}\n",
    "\n",
    "# 초기화\n",
    "app = dash.Dash(__name__)\n",
    "app.config['suppress_callback_exceptions'] = True\n",
    "\n",
    "# 연령대 그래프 생성 \n",
    "def generate_age_graph(sex, age_group):\n",
    "    filtered_df = df[(df['SEX'] == sex) & (df['AGE_GROUP'] == age_group)]\n",
    "    \n",
    "    # 평균 키, 몸무게 계산\n",
    "    avg_height = filtered_df['HEIGHT'].mean()\n",
    "    avg_weight = filtered_df['WEIGHT'].mean()\n",
    "    \n",
    "    # 그래프 생성\n",
    "    fig = go.Figure()\n",
    "    fig.add_trace(go.Bar(x=['평균 키', '평균 몸무게'], y=[avg_height, avg_weight], name=''))\n",
    "\n",
    "    return fig\n",
    "\n",
    "# 거주지 파이 차트 생성 \n",
    "def generate_residence_pie_chart(age_group):\n",
    "    age_group_df = df[df['AGE_GROUP'] == age_group]\n",
    "    residence_counts = age_group_df['SIDO'].map(sido_mapping).value_counts()\n",
    "\n",
    "    fig = go.Figure(data=[go.Pie(labels=residence_counts.index, values=residence_counts.values)])\n",
    "    fig.update_layout(title_text=f'거주지 분포')\n",
    "    return fig\n",
    "\n",
    "# 대시보드 \n",
    "app.layout = html.Div([\n",
    "    html.H1(\"연령대 별 건강검진정보\"),\n",
    "    \n",
    "    html.Label(\"연령대 선택:\"),\n",
    "    dcc.Dropdown(\n",
    "        id='age-dropdown',\n",
    "        options=[\n",
    "            {'label': '40-44세', 'value': 9},\n",
    "            {'label': '45-49세', 'value': 10},\n",
    "            {'label': '50-54세', 'value': 11},\n",
    "            {'label': '55-59세', 'value': 12},\n",
    "            {'label': '60-64세', 'value': 13},\n",
    "            {'label': '65-69세', 'value': 14},\n",
    "            {'label': '70-74세', 'value': 15},\n",
    "            {'label': '75-79세', 'value': 16},\n",
    "            {'label': '80-84세', 'value': 17},\n",
    "            {'label': '85세 이상', 'value': 18}\n",
    "        ],\n",
    "        value=9  \n",
    "    ),\n",
    "    \n",
    "    dcc.Graph(id='age-graph'),\n",
    "    \n",
    "    dcc.Graph(id='residence-pie-chart')\n",
    "])\n",
    "\n",
    "# Callback 함수 \n",
    "@app.callback(\n",
    "    [dash.dependencies.Output('age-graph', 'figure'),\n",
    "     dash.dependencies.Output('residence-pie-chart', 'figure')],\n",
    "    [dash.dependencies.Input('age-dropdown', 'value')]\n",
    ")\n",
    "def update_graph(selected_age_group):\n",
    "    # 남자 \n",
    "    male_fig = generate_age_graph(sex=1, age_group=selected_age_group)\n",
    "    # 여자\n",
    "    female_fig = generate_age_graph(sex=2, age_group=selected_age_group)\n",
    "\n",
    "    fig = make_subplots(rows=1, cols=2, subplot_titles=['남자', '여자'])\n",
    "    fig.add_trace(male_fig['data'][0], row=1, col=1)\n",
    "    fig.add_trace(female_fig['data'][0], row=1, col=2)\n",
    "\n",
    "    fig.update_layout(title_text=f'남자와 여자의 평균 키 및 몸무게', title_x=0.5)\n",
    "\n",
    "    # 거주지 파이 차트\n",
    "    residence_pie_chart = generate_residence_pie_chart(age_group=selected_age_group)\n",
    "\n",
    "    return fig, residence_pie_chart\n",
    "\n",
    "# 캐시 없이 실행\n",
    "if __name__ == '__main__':\n",
    "    app.run_server(port=8051, debug=True)\n"
   ]
  },
  {
   "cell_type": "code",
   "execution_count": null,
   "id": "935ac0f4-dd32-49dd-8a7c-b7d841985082",
   "metadata": {},
   "outputs": [],
   "source": []
  }
 ],
 "metadata": {
  "kernelspec": {
   "display_name": "Python 3 (ipykernel)",
   "language": "python",
   "name": "python3"
  },
  "language_info": {
   "codemirror_mode": {
    "name": "ipython",
    "version": 3
   },
   "file_extension": ".py",
   "mimetype": "text/x-python",
   "name": "python",
   "nbconvert_exporter": "python",
   "pygments_lexer": "ipython3",
   "version": "3.9.13"
  }
 },
 "nbformat": 4,
 "nbformat_minor": 5
}
